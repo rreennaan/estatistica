{
  "nbformat": 4,
  "nbformat_minor": 0,
  "metadata": {
    "colab": {
      "name": "Versão_bibliotecas.ipynb",
      "provenance": [],
      "toc_visible": true,
      "include_colab_link": true
    },
    "kernelspec": {
      "name": "python3",
      "display_name": "Python 3"
    }
  },
  "cells": [
    {
      "cell_type": "markdown",
      "metadata": {
        "id": "view-in-github",
        "colab_type": "text"
      },
      "source": [
        "<a href=\"https://colab.research.google.com/github/rreennaan/estatistica/blob/main/Parte%202/Vers%C3%A3o_bibliotecas.ipynb\" target=\"_parent\"><img src=\"https://colab.research.google.com/assets/colab-badge.svg\" alt=\"Open In Colab\"/></a>"
      ]
    },
    {
      "metadata": {
        "id": "kffSOYcgir5Q",
        "colab": {
          "base_uri": "https://localhost:8080/"
        },
        "outputId": "286dd50c-864b-41ad-9683-4aa2472f7e64"
      },
      "cell_type": "code",
      "source": [
        "import pandas, numpy, scipy, matplotlib\n",
        "\n",
        "print('Versão do pandas -> %s' % pandas.__version__)\n",
        "print('Versão do numpy -> %s' % numpy.__version__)\n",
        "print('Versão do scipy -> %s' % scipy.__version__)\n",
        "print('Versão do matplotlib -> %s' % matplotlib.__version__)"
      ],
      "execution_count": 1,
      "outputs": [
        {
          "output_type": "stream",
          "name": "stdout",
          "text": [
            "Versão do pandas -> 1.3.5\n",
            "Versão do numpy -> 1.21.5\n",
            "Versão do scipy -> 1.4.1\n",
            "Versão do matplotlib -> 3.2.2\n"
          ]
        }
      ]
    },
    {
      "metadata": {
        "id": "bcAPEvyqjJCx"
      },
      "cell_type": "code",
      "source": [
        ""
      ],
      "execution_count": null,
      "outputs": []
    }
  ]
}